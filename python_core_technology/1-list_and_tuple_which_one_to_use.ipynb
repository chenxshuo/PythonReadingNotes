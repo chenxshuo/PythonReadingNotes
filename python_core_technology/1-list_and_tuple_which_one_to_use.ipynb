{
 "cells": [
  {
   "cell_type": "markdown",
   "metadata": {},
   "source": [
    "## Basics of list and tuple"
   ]
  },
  {
   "cell_type": "markdown",
   "metadata": {},
   "source": [
    "- List and Tuple both are a **sequential** container in which you can store **any type of data**\n",
    "- List is **mutable and dynamic**, without a fixed length and you can add, delete, modify elements in it. \n",
    "- Tuple is **immutable and static** with a fixed length. Elements in a tuple cannot be modified. "
   ]
  },
  {
   "cell_type": "code",
   "execution_count": 2,
   "metadata": {},
   "outputs": [
    {
     "name": "stdout",
     "output_type": "stream",
     "text": [
      "[1, 'hello', 'aaa']\n",
      "('hello', 112)\n"
     ]
    }
   ],
   "source": [
    "# create a list \n",
    "l = [1,\"hello\",'aaa'] # l contains both int and string \n",
    "print(l)\n",
    "# create a tuple \n",
    "t = ('hello',112) # t contains both int and string \n",
    "print(t)"
   ]
  },
  {
   "cell_type": "code",
   "execution_count": 3,
   "metadata": {},
   "outputs": [
    {
     "name": "stdout",
     "output_type": "stream",
     "text": [
      "[1, 'hello', 10]\n"
     ]
    }
   ],
   "source": [
    "# change the element in the list \n",
    "l[-1] = 10\n",
    "print(l)"
   ]
  },
  {
   "cell_type": "code",
   "execution_count": 4,
   "metadata": {},
   "outputs": [
    {
     "ename": "TypeError",
     "evalue": "'tuple' object does not support item assignment",
     "output_type": "error",
     "traceback": [
      "\u001b[1;31m---------------------------------------------------------------------------\u001b[0m",
      "\u001b[1;31mTypeError\u001b[0m                                 Traceback (most recent call last)",
      "\u001b[1;32m<ipython-input-4-48e13917b937>\u001b[0m in \u001b[0;36m<module>\u001b[1;34m()\u001b[0m\n\u001b[0;32m      1\u001b[0m \u001b[1;31m# but for tuple, you cannot\u001b[0m\u001b[1;33m\u001b[0m\u001b[1;33m\u001b[0m\u001b[0m\n\u001b[1;32m----> 2\u001b[1;33m \u001b[0mt\u001b[0m\u001b[1;33m[\u001b[0m\u001b[1;33m-\u001b[0m\u001b[1;36m1\u001b[0m\u001b[1;33m]\u001b[0m \u001b[1;33m=\u001b[0m \u001b[1;36m10\u001b[0m\u001b[1;33m\u001b[0m\u001b[0m\n\u001b[0m",
      "\u001b[1;31mTypeError\u001b[0m: 'tuple' object does not support item assignment"
     ]
    }
   ],
   "source": [
    "# but for tuple, you cannot \n",
    "t[-1] = 10"
   ]
  },
  {
   "cell_type": "markdown",
   "metadata": {},
   "source": [
    "If you do want to change the content of a tuple, the only way is to create a new one."
   ]
  },
  {
   "cell_type": "code",
   "execution_count": 5,
   "metadata": {},
   "outputs": [
    {
     "name": "stdout",
     "output_type": "stream",
     "text": [
      "('hello', 112, 5, 'add')\n"
     ]
    }
   ],
   "source": [
    "t_new = t + (5,'add')\n",
    "print(t_new)"
   ]
  },
  {
   "cell_type": "markdown",
   "metadata": {},
   "source": [
    "Here, `t_new` and `t` are two different objects"
   ]
  },
  {
   "cell_type": "code",
   "execution_count": 8,
   "metadata": {},
   "outputs": [
    {
     "name": "stdout",
     "output_type": "stream",
     "text": [
      "1847706287304\n",
      "1847705238600\n"
     ]
    },
    {
     "data": {
      "text/plain": [
       "False"
      ]
     },
     "execution_count": 8,
     "metadata": {},
     "output_type": "execute_result"
    }
   ],
   "source": [
    "print(id(t_new))\n",
    "print(id(t))\n",
    "id(t_new) == id(t)"
   ]
  },
  {
   "cell_type": "markdown",
   "metadata": {},
   "source": [
    "But for list, you can directly append a new element "
   ]
  },
  {
   "cell_type": "code",
   "execution_count": 10,
   "metadata": {},
   "outputs": [
    {
     "name": "stdout",
     "output_type": "stream",
     "text": [
      "[1, 'hello', 10, 'new', 'new']\n"
     ]
    }
   ],
   "source": [
    "l.append(\"new\")\n",
    "print(l)"
   ]
  },
  {
   "cell_type": "markdown",
   "metadata": {},
   "source": [
    "Now, let's look at some basic operations "
   ]
  },
  {
   "cell_type": "code",
   "execution_count": 14,
   "metadata": {},
   "outputs": [
    {
     "name": "stdout",
     "output_type": "stream",
     "text": [
      "1 2 4 3\n",
      "[1, 2, 3] [1, 2, 3, 4] [2]\n",
      "1 4\n",
      "(1,) (3, 4)\n"
     ]
    }
   ],
   "source": [
    "# index and slice \n",
    "l = [1,2,3,4]\n",
    "print(l[0],l[1],l[-1],l[-2])\n",
    "print(l[0:3], l[0:100], l[1:2])\n",
    "tup = (1,2,3,4)\n",
    "print(tup[0],tup[-1])\n",
    "print(tup[0:1],tup[2:])"
   ]
  },
  {
   "cell_type": "code",
   "execution_count": 18,
   "metadata": {},
   "outputs": [
    {
     "name": "stdout",
     "output_type": "stream",
     "text": [
      "[[1, 2, 3], 3, ['hello', 'world', ['Again']]]\n",
      "(1, 2, (3, 4, 'hello'))\n"
     ]
    }
   ],
   "source": [
    "# nested lists and tuples \n",
    "l = [[1,2,3],3,[\"hello\",\"world\",[\"Again\"]]]\n",
    "tup = (1,2,(3,4,(\"hello\")))\n",
    "print(l)\n",
    "print(tup)"
   ]
  },
  {
   "cell_type": "code",
   "execution_count": 19,
   "metadata": {},
   "outputs": [
    {
     "data": {
      "text/plain": [
       "[1, 2, 3]"
      ]
     },
     "execution_count": 19,
     "metadata": {},
     "output_type": "execute_result"
    }
   ],
   "source": [
    "# convert from each other \n",
    "list((1,2,3))"
   ]
  },
  {
   "cell_type": "code",
   "execution_count": 20,
   "metadata": {},
   "outputs": [
    {
     "data": {
      "text/plain": [
       "(1, 2, 3)"
      ]
     },
     "execution_count": 20,
     "metadata": {},
     "output_type": "execute_result"
    }
   ],
   "source": [
    "tuple([1,2,3])"
   ]
  },
  {
   "cell_type": "code",
   "execution_count": 24,
   "metadata": {},
   "outputs": [
    {
     "name": "stdout",
     "output_type": "stream",
     "text": [
      "2\n",
      "0\n",
      "1 2\n",
      "[1, 2, 3, 3, 4, 5]\n",
      "[5, 4, 3, 3, 2, 1]\n"
     ]
    }
   ],
   "source": [
    "# some useful implemented functions\n",
    "l = [1,2,3,4,5,3]\n",
    "print(l.count(3))\n",
    "print(l.count(0))\n",
    "print(l.index(2), l.index(3))\n",
    "l.sort()\n",
    "print(l)\n",
    "l.reverse()\n",
    "print(l)"
   ]
  },
  {
   "cell_type": "code",
   "execution_count": 27,
   "metadata": {},
   "outputs": [
    {
     "name": "stdout",
     "output_type": "stream",
     "text": [
      "2\n",
      "1 2\n",
      "(3, 2, 5, 4, 3, 2, 1)\n",
      "(1, 2, 2, 3, 3, 4, 5)\n"
     ]
    }
   ],
   "source": [
    "tup = (1,2,3,4,5,2,3)\n",
    "print(tup.count(3))\n",
    "print(tup.index(2), tup.index(3))\n",
    "print(tuple(reversed(tup)))\n",
    "print(tuple(sorted(tup)))"
   ]
  },
  {
   "cell_type": "markdown",
   "metadata": {},
   "source": [
    "## Differences of the store mechanism of list and tuple \n",
    "\n",
    "To explore the differences of the store, we need to get familiar with two methods:\n",
    "- `sys.getsizeof()` [ref](https://docs.python.org/3/library/sys.html#sys.getsizeof)\n",
    "- `object.__sizeof__()`"
   ]
  },
  {
   "cell_type": "code",
   "execution_count": 48,
   "metadata": {},
   "outputs": [
    {
     "data": {
      "text/plain": [
       "(88, 64)"
      ]
     },
     "execution_count": 48,
     "metadata": {},
     "output_type": "execute_result"
    }
   ],
   "source": [
    "import sys \n",
    "l = [1,2,3]\n",
    "# the result getsizeof is a bit larger due to garbage collector overhead\n",
    "sys.getsizeof(l), l.__sizeof__()"
   ]
  },
  {
   "cell_type": "code",
   "execution_count": 50,
   "metadata": {},
   "outputs": [
    {
     "data": {
      "text/plain": [
       "(72, 48)"
      ]
     },
     "execution_count": 50,
     "metadata": {},
     "output_type": "execute_result"
    }
   ],
   "source": [
    "tup = (1,2,3)\n",
    "sys.getsizeof(tup), tup.__sizeof__()"
   ]
  },
  {
   "cell_type": "markdown",
   "metadata": {},
   "source": [
    "`l` and `tup` contain the same three elements, but `l` is larger than `tub` by 16 bytes. \n",
    "\n",
    "Because the list is dynamic, so it requires pointers(pointers for int take 8 bytes) to point to elements. Also the list needs some extra space to store the statistics of assigned space so that it can watch the space usage and reallocate memory when there is no space anymore. "
   ]
  },
  {
   "cell_type": "code",
   "execution_count": 54,
   "metadata": {},
   "outputs": [
    {
     "data": {
      "text/plain": [
       "56"
      ]
     },
     "execution_count": 54,
     "metadata": {},
     "output_type": "execute_result"
    }
   ],
   "source": [
    "tup = (1,2,[1]*1000,\"aaaaaaaaaaaaaaaaaaaaaaaaaaaaaaaaaaaaaaaaaaaaaaaaaaaaaaaaaaaaaaaaaaaaaaaaaaaaaaaaaaaaaaaaaa\")\n",
    "tup.__sizeof__()"
   ]
  },
  {
   "cell_type": "code",
   "execution_count": 60,
   "metadata": {},
   "outputs": [
    {
     "data": {
      "text/plain": [
       "80"
      ]
     },
     "execution_count": 60,
     "metadata": {},
     "output_type": "execute_result"
    }
   ],
   "source": [
    "l = [1,2,3,[1]*100,\"ssssssssssssssssssssssssssssssssssssssssssssssssssssssssssssssssssssss\"]\n",
    "l.__sizeof__()"
   ]
  },
  {
   "cell_type": "markdown",
   "metadata": {},
   "source": [
    "TOBEDONE"
   ]
  },
  {
   "cell_type": "code",
   "execution_count": 83,
   "metadata": {},
   "outputs": [
    {
     "name": "stdout",
     "output_type": "stream",
     "text": [
      "40\n",
      "72\n",
      "72\n",
      "72\n",
      "72\n",
      "104\n"
     ]
    }
   ],
   "source": [
    "l = [] \n",
    "print(l.__sizeof__()) # memory for a empty list is 40 bytes \n",
    "l.append(1)\n",
    "print(l.__sizeof__()) # add one element, the space is 72 bytes, (72-40)/8bytes = 4 so there is 4 slots in total and 3 is empty \n",
    "l.append(2)\n",
    "print(l.__sizeof__()) # add the second element, space didn't change, 2 slots remain \n",
    "l.append(3)\n",
    "print(l.__sizeof__()) # add the third element, space didn't change, 1 slot remain \n",
    "l.append(4)\n",
    "print(l.__sizeof__()) # add the fourth element, space didn't change, 0 slot remain \n",
    "l.append(5)\n",
    "print(l.__sizeof__()) # while before adding the fifth element, there is no extra space, so allocate new memories, (104-72)/8 = 4, there is 4 more, and 3 is empty"
   ]
  },
  {
   "cell_type": "code",
   "execution_count": 84,
   "metadata": {},
   "outputs": [
    {
     "name": "stdout",
     "output_type": "stream",
     "text": [
      "5\n",
      "104\n",
      "4\n",
      "104\n",
      "3\n",
      "88\n",
      "2\n",
      "80\n",
      "1\n",
      "72\n",
      "0\n",
      "40\n"
     ]
    }
   ],
   "source": [
    "print(len(l)) \n",
    "# there are 5 elements taking 5*8 = 40 bytes, there are 40 bytes for an empty array, \n",
    "# and 104 -40 -40 = 24 left for extra 3 elements\n",
    "print(l.__sizeof__()) \n",
    "\n",
    "l.pop()\n",
    "print(len(l))\n",
    "# there are 4 elements, space didn't change \n",
    "print(l.__sizeof__())\n",
    "\n",
    "l.pop()\n",
    "print(len(l))\n",
    "# there are 3 elements, space was shrinked to 88 = 40 + 3*8 + 3*8(there are 3 extra slots) \n",
    "print(l.__sizeof__())\n",
    "\n",
    "l.pop()\n",
    "print(len(l))\n",
    "# 2 elements, 88 - 8 \n",
    "print(l.__sizeof__())\n",
    "\n",
    "l.pop()\n",
    "print(len(l))\n",
    "# 1 elements 80 - 8\n",
    "print(l.__sizeof__())\n",
    "\n",
    "l.pop()\n",
    "print(len(l))\n",
    "# 0 elements, space is 40, it eliminated the 3 extra slots too. \n",
    "print(l.__sizeof__())"
   ]
  },
  {
   "cell_type": "markdown",
   "metadata": {},
   "source": [
    "## Performance Comparison between List and Tuple\n",
    "\n",
    "The tuple is more lighter than the list so in general we can say the performance of tuple is a bit better than list\n",
    "\n",
    "Python will automatically cache resource for static variables such as tuples. Generally, if some variables are no longer used, python will recollect the memory they take and return it to operation system. But for some static variables like tuples, if one tuple is no longer used but takes memory that is not too large, python would cache this part of memory. In this way, next time we create a new tuple with the same length, it is unnecessary to ask operation system for new space but using the cached memory. "
   ]
  },
  {
   "cell_type": "code",
   "execution_count": 85,
   "metadata": {
    "collapsed": true
   },
   "outputs": [],
   "source": [
    "# the initialization of a tuple is about four times faster\n",
    "!python -m timeit 'x=(1,2,3)'\n",
    "# 100000000 loops, best of 3: 0.0112 usec per loop\n",
    "!python3 -m timeit \"l=[1,2,3]\"\n",
    "# 10000000 loops, best of 3: 0.042 usec per loop"
   ]
  },
  {
   "cell_type": "code",
   "execution_count": null,
   "metadata": {
    "collapsed": true
   },
   "outputs": [],
   "source": []
  }
 ],
 "metadata": {
  "kernelspec": {
   "display_name": "Python 3",
   "language": "python",
   "name": "python3"
  },
  "language_info": {
   "codemirror_mode": {
    "name": "ipython",
    "version": 3
   },
   "file_extension": ".py",
   "mimetype": "text/x-python",
   "name": "python",
   "nbconvert_exporter": "python",
   "pygments_lexer": "ipython3",
   "version": "3.6.3"
  },
  "toc": {
   "base_numbering": 1,
   "nav_menu": {},
   "number_sections": true,
   "sideBar": true,
   "skip_h1_title": false,
   "title_cell": "Table of Contents",
   "title_sidebar": "Contents",
   "toc_cell": false,
   "toc_position": {},
   "toc_section_display": true,
   "toc_window_display": false
  }
 },
 "nbformat": 4,
 "nbformat_minor": 2
}
